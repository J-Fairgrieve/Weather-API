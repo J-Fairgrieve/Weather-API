{
 "cells": [
  {
   "cell_type": "markdown",
   "id": "d0d9da8f",
   "metadata": {},
   "source": [
    "# 1. Extracting Data from OpenWeatherMap API"
   ]
  },
  {
   "cell_type": "code",
   "execution_count": 4,
   "id": "e6d3512c",
   "metadata": {},
   "outputs": [],
   "source": [
    "# Import the dependencies used in the project\n",
    "import numpy as np\n",
    "from citipy import citipy\n",
    "from config import weather_key\n",
    "import requests\n",
    "import pandas as pd"
   ]
  },
  {
   "cell_type": "markdown",
   "id": "38de5a5f",
   "metadata": {},
   "source": [
    "### 1.1 Generating a list of cities"
   ]
  },
  {
   "cell_type": "code",
   "execution_count": 2,
   "id": "df887eac",
   "metadata": {},
   "outputs": [
    {
     "name": "stdout",
     "output_type": "stream",
     "text": [
      "From 1,500 co-ordinates, a total of 612 cities were found (40.80% retrived)\n",
      "Data will be collected from abonnema to zhigansk!\n"
     ]
    }
   ],
   "source": [
    "# Create a range of latitudes and longitudes\n",
    "lat_range = (-90, 90)\n",
    "lng_range = (-180, 180)\n",
    "\n",
    "# Create two empty lists for holding the latitude/longitude and city names\n",
    "\n",
    "lats_lngs = []\n",
    "city_names = []\n",
    "\n",
    "# Create a set of random co-ordinates to fill the lat_long list\n",
    "lats = np.random.uniform(lat_range[0], lat_range[1], size = 1500)\n",
    "lngs = np.random.uniform(lng_range[0], lng_range[1], size = 1500)\n",
    "lats_lngs = zip(lats, lngs)\n",
    "\n",
    "# Identify the nearest city for each generated co-ordinate\n",
    "for lat_lng in lats_lngs:\n",
    "    city = citipy.nearest_city(lat_lng[0], lat_lng[1]).city_name\n",
    "    \n",
    "    # If the located city is not in the current list, add to the city_names list\n",
    "    if city not in city_names:\n",
    "        city_names.append(city)\n",
    "        \n",
    "\n",
    "city_names = sorted(city_names)\n",
    "\n",
    "# Print the number of cities found with the code\n",
    "print(f'From 1,500 co-ordinates, a total of {len(city_names)} cities were found ({(len(city_names) / 1500) * 100:.2f}% retrived)')\n",
    "print(f'Data will be collected from {city_names[0]} to {city_names[-1]}!')"
   ]
  },
  {
   "cell_type": "markdown",
   "id": "d394ba5b",
   "metadata": {},
   "source": [
    "### 1.2 Performing the API Calls"
   ]
  },
  {
   "cell_type": "code",
   "execution_count": 3,
   "id": "1abfcd4a",
   "metadata": {},
   "outputs": [
    {
     "name": "stdout",
     "output_type": "stream",
     "text": [
      "The API was available to find the weather information for 560 cities in total, 91.50% of the total city names generated\n"
     ]
    }
   ],
   "source": [
    "# Call the API's url, reset the counters for the loop and create a variable to store the city's weather data\n",
    "url = \"http://api.openweathermap.org/data/2.5/weather?units=Imperial&APPID=\" + weather_key\n",
    "record_counter = 1\n",
    "set_counter = 1\n",
    "city_data = []\n",
    "\n",
    "\n",
    "# Create a loop for scraping data from the API\n",
    "for x, city in enumerate(city_names):\n",
    "    city_url = url + \"&q=\" + city\n",
    "    \n",
    "    # Run an API request for each city in the cities list\n",
    "    try:\n",
    "        city_weather = requests.get(city_url).json()\n",
    "        \n",
    "        city_lat = city_weather[\"coord\"][\"lat\"]\n",
    "        city_lng = city_weather[\"coord\"][\"lon\"]\n",
    "        city_max_temp = city_weather[\"main\"][\"temp_max\"]\n",
    "        city_humidity = city_weather[\"main\"][\"humidity\"]\n",
    "        city_clouds = city_weather[\"clouds\"][\"all\"]\n",
    "        city_wind = city_weather[\"wind\"][\"speed\"]\n",
    "        city_country = city_weather[\"sys\"][\"country\"]\n",
    "        city_date = city_weather[\"dt\"]\n",
    "        \n",
    "        # Append the city information into the city_data list\n",
    "        city_data.append({\"City\": city,\n",
    "                          \"Lat\": city_lat,\n",
    "                          \"Lng\": city_lng,\n",
    "                          \"Max Temp\": city_max_temp,\n",
    "                          \"Humidity\": city_humidity,\n",
    "                          \"Cloudiness\": city_clouds,\n",
    "                          \"Wind Speed\": city_wind,\n",
    "                          \"Country\": city_country,\n",
    "                          \"Date\": city_date})\n",
    "        record_counter = record_counter + 1\n",
    "    except:\n",
    "        record_counter = record_counter + 1\n",
    "        pass\n",
    "\n",
    "print(f'The API was available to find the weather information for {len(city_data)} cities in total, {(len(city_data) / len(city_names)) * 100:.2f}% of the total city names generated!')"
   ]
  },
  {
   "cell_type": "markdown",
   "id": "0e819c26",
   "metadata": {},
   "source": [
    "### 1.3 Create a DataFrame and Save as .csv"
   ]
  },
  {
   "cell_type": "code",
   "execution_count": 5,
   "id": "77a9a449",
   "metadata": {},
   "outputs": [
    {
     "data": {
      "text/html": [
       "<div>\n",
       "<style scoped>\n",
       "    .dataframe tbody tr th:only-of-type {\n",
       "        vertical-align: middle;\n",
       "    }\n",
       "\n",
       "    .dataframe tbody tr th {\n",
       "        vertical-align: top;\n",
       "    }\n",
       "\n",
       "    .dataframe thead th {\n",
       "        text-align: right;\n",
       "    }\n",
       "</style>\n",
       "<table border=\"1\" class=\"dataframe\">\n",
       "  <thead>\n",
       "    <tr style=\"text-align: right;\">\n",
       "      <th></th>\n",
       "      <th>City</th>\n",
       "      <th>Lat</th>\n",
       "      <th>Lng</th>\n",
       "      <th>Max Temp</th>\n",
       "      <th>Humidity</th>\n",
       "      <th>Cloudiness</th>\n",
       "      <th>Wind Speed</th>\n",
       "      <th>Country</th>\n",
       "      <th>Date</th>\n",
       "    </tr>\n",
       "  </thead>\n",
       "  <tbody>\n",
       "    <tr>\n",
       "      <th>0</th>\n",
       "      <td>abonnema</td>\n",
       "      <td>4.7084</td>\n",
       "      <td>6.7931</td>\n",
       "      <td>75.49</td>\n",
       "      <td>87</td>\n",
       "      <td>100</td>\n",
       "      <td>8.21</td>\n",
       "      <td>NG</td>\n",
       "      <td>1664127579</td>\n",
       "    </tr>\n",
       "    <tr>\n",
       "      <th>1</th>\n",
       "      <td>abu dhabi</td>\n",
       "      <td>24.4667</td>\n",
       "      <td>54.3667</td>\n",
       "      <td>89.71</td>\n",
       "      <td>81</td>\n",
       "      <td>0</td>\n",
       "      <td>4.61</td>\n",
       "      <td>AE</td>\n",
       "      <td>1664127421</td>\n",
       "    </tr>\n",
       "    <tr>\n",
       "      <th>2</th>\n",
       "      <td>acurenam</td>\n",
       "      <td>1.0322</td>\n",
       "      <td>10.6488</td>\n",
       "      <td>69.08</td>\n",
       "      <td>99</td>\n",
       "      <td>99</td>\n",
       "      <td>3.83</td>\n",
       "      <td>GQ</td>\n",
       "      <td>1664127579</td>\n",
       "    </tr>\n",
       "    <tr>\n",
       "      <th>3</th>\n",
       "      <td>adrar</td>\n",
       "      <td>20.5022</td>\n",
       "      <td>-10.0711</td>\n",
       "      <td>99.12</td>\n",
       "      <td>22</td>\n",
       "      <td>24</td>\n",
       "      <td>7.70</td>\n",
       "      <td>MR</td>\n",
       "      <td>1664127579</td>\n",
       "    </tr>\n",
       "    <tr>\n",
       "      <th>4</th>\n",
       "      <td>ahipara</td>\n",
       "      <td>-35.1667</td>\n",
       "      <td>173.1667</td>\n",
       "      <td>57.38</td>\n",
       "      <td>89</td>\n",
       "      <td>92</td>\n",
       "      <td>10.49</td>\n",
       "      <td>NZ</td>\n",
       "      <td>1664127580</td>\n",
       "    </tr>\n",
       "  </tbody>\n",
       "</table>\n",
       "</div>"
      ],
      "text/plain": [
       "        City      Lat       Lng  Max Temp  Humidity  Cloudiness  Wind Speed  \\\n",
       "0   abonnema   4.7084    6.7931     75.49        87         100        8.21   \n",
       "1  abu dhabi  24.4667   54.3667     89.71        81           0        4.61   \n",
       "2   acurenam   1.0322   10.6488     69.08        99          99        3.83   \n",
       "3      adrar  20.5022  -10.0711     99.12        22          24        7.70   \n",
       "4    ahipara -35.1667  173.1667     57.38        89          92       10.49   \n",
       "\n",
       "  Country        Date  \n",
       "0      NG  1664127579  \n",
       "1      AE  1664127421  \n",
       "2      GQ  1664127579  \n",
       "3      MR  1664127579  \n",
       "4      NZ  1664127580  "
      ]
     },
     "execution_count": 5,
     "metadata": {},
     "output_type": "execute_result"
    }
   ],
   "source": [
    "city_df = pd.DataFrame(city_data)\n",
    "city_df.to_csv(\"Data/City Data.csv\", index = False)\n",
    "city_df.head()"
   ]
  }
 ],
 "metadata": {
  "kernelspec": {
   "display_name": "Python 3 (ipykernel)",
   "language": "python",
   "name": "python3"
  },
  "language_info": {
   "codemirror_mode": {
    "name": "ipython",
    "version": 3
   },
   "file_extension": ".py",
   "mimetype": "text/x-python",
   "name": "python",
   "nbconvert_exporter": "python",
   "pygments_lexer": "ipython3",
   "version": "3.9.12"
  }
 },
 "nbformat": 4,
 "nbformat_minor": 5
}
